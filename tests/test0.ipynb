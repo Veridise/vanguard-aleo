{
 "cells": [
  {
   "cell_type": "code",
   "execution_count": 1,
   "id": "0df863b2-27ae-4e50-b81e-a4bd02ba9c4d",
   "metadata": {},
   "outputs": [],
   "source": [
    "# only run once every time kernel restarts\n",
    "import os\n",
    "os.chdir(\"..\")"
   ]
  },
  {
   "cell_type": "code",
   "execution_count": 2,
   "id": "780fea9e-9270-462e-9e0a-879f633a2404",
   "metadata": {},
   "outputs": [],
   "source": [
    "from vanguard.aleo.common import aleo2json, get_ifg_edges, get_public_inputs, get_public_outputs\n",
    "from vanguard.aleo.detectors.ileak import detector_ileak"
   ]
  },
  {
   "cell_type": "code",
   "execution_count": 3,
   "id": "103d2086-9fbf-403d-af13-556af98d4150",
   "metadata": {},
   "outputs": [],
   "source": [
    "obj = aleo2json(\"./tests/test0.aleo\")"
   ]
  },
  {
   "cell_type": "code",
   "execution_count": 4,
   "id": "8fab8ca7-1ce8-41be-a667-d29dfa400dd6",
   "metadata": {},
   "outputs": [
    {
     "data": {
      "text/plain": [
       "dict_keys(['type', 'id', 'identifiers', 'imports', 'mappings', 'structs', 'records', 'closures', 'functions'])"
      ]
     },
     "execution_count": 4,
     "metadata": {},
     "output_type": "execute_result"
    }
   ],
   "source": [
    "obj.keys()"
   ]
  },
  {
   "cell_type": "code",
   "execution_count": 5,
   "id": "dc68b5fe-ef34-443b-bf2b-e0bb338afeea",
   "metadata": {},
   "outputs": [],
   "source": [
    "f0 = obj[\"functions\"][\"ex_leak3\"]"
   ]
  },
  {
   "cell_type": "code",
   "execution_count": 6,
   "id": "f93f95d4-4faf-4baa-aa81-3a5be4a4dcfe",
   "metadata": {},
   "outputs": [
    {
     "data": {
      "text/plain": [
       "[('r0', 'r1'), ('3u8', 'r1')]"
      ]
     },
     "execution_count": 6,
     "metadata": {},
     "output_type": "execute_result"
    }
   ],
   "source": [
    "get_ifg_edges(f0)"
   ]
  },
  {
   "cell_type": "code",
   "execution_count": 7,
   "id": "f2afff84-ea2c-4d1d-b62f-8196e40bf87f",
   "metadata": {},
   "outputs": [
    {
     "data": {
      "text/plain": [
       "['r0']"
      ]
     },
     "execution_count": 7,
     "metadata": {},
     "output_type": "execute_result"
    }
   ],
   "source": [
    "get_public_inputs(f0)"
   ]
  },
  {
   "cell_type": "code",
   "execution_count": 8,
   "id": "c9f37f3c-0980-40e0-8e91-a63e7cd94b7c",
   "metadata": {},
   "outputs": [
    {
     "data": {
      "text/plain": [
       "['r1']"
      ]
     },
     "execution_count": 8,
     "metadata": {},
     "output_type": "execute_result"
    }
   ],
   "source": [
    "get_public_outputs(f0)"
   ]
  },
  {
   "cell_type": "code",
   "execution_count": 9,
   "id": "73a88f6c-25db-4e0f-9bac-acbe01b0d629",
   "metadata": {},
   "outputs": [
    {
     "data": {
      "text/plain": [
       "[('r0', 'r1')]"
      ]
     },
     "execution_count": 9,
     "metadata": {},
     "output_type": "execute_result"
    }
   ],
   "source": [
    "detector_ileak(f0)"
   ]
  },
  {
   "cell_type": "code",
   "execution_count": null,
   "id": "9120076b-8475-4909-9a59-4d421713d6d8",
   "metadata": {},
   "outputs": [],
   "source": []
  }
 ],
 "metadata": {
  "kernelspec": {
   "display_name": "Python 3 (ipykernel)",
   "language": "python",
   "name": "python3"
  },
  "language_info": {
   "codemirror_mode": {
    "name": "ipython",
    "version": 3
   },
   "file_extension": ".py",
   "mimetype": "text/x-python",
   "name": "python",
   "nbconvert_exporter": "python",
   "pygments_lexer": "ipython3",
   "version": "3.10.9"
  }
 },
 "nbformat": 4,
 "nbformat_minor": 5
}
