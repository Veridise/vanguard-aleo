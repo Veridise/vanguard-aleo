{
 "cells": [
  {
   "cell_type": "code",
   "execution_count": 1,
   "id": "6c52d804-5982-4fe1-8ebe-0b40481e273b",
   "metadata": {},
   "outputs": [],
   "source": [
    "# only run once every time kernel restarts\n",
    "import os\n",
    "os.chdir(\"..\")"
   ]
  },
  {
   "cell_type": "code",
   "execution_count": 2,
   "id": "b3988b02-3591-4e8b-b2fa-c141d19eb4fa",
   "metadata": {},
   "outputs": [],
   "source": [
    "from vanguard.aleo.common import aleo2json, get_ifg_edges\n",
    "from vanguard.aleo.grammar import AleoProgram\n",
    "from vanguard.aleo.detectors.infoleak import detector_infoleak\n",
    "from vanguard.aleo.detectors.rtcnst import detector_rtcnst\n",
    "from vanguard.aleo.detectors.unused import detector_unused\n",
    "from vanguard.aleo.detectors.divz import detector_divz"
   ]
  },
  {
   "cell_type": "code",
   "execution_count": 3,
   "id": "807ff5c7-5ce1-4f07-8279-0c371a9172b3",
   "metadata": {},
   "outputs": [],
   "source": [
    "# obj = aleo2json(\"./tests/aleoswap06.aleo\")\n",
    "# obj = aleo2json(\"./tests/rtcnst0/build/main.aleo\")\n",
    "# obj = aleo2json(\"./tests/unused0/build/main.aleo\")\n",
    "obj = aleo2json(\"./tests/divz0/build/main.aleo\")"
   ]
  },
  {
   "cell_type": "code",
   "execution_count": 4,
   "id": "c832a668-f15e-4bfd-b670-7b469cfb815b",
   "metadata": {},
   "outputs": [],
   "source": [
    "ap = AleoProgram(json=obj)"
   ]
  },
  {
   "cell_type": "code",
   "execution_count": null,
   "id": "ebae5887-a20d-45c4-b919-099e5cb7bea3",
   "metadata": {},
   "outputs": [],
   "source": []
  },
  {
   "cell_type": "code",
   "execution_count": 5,
   "id": "ce8990c5-06b6-404a-a1ce-0fbbff1ef701",
   "metadata": {
    "scrolled": true,
    "tags": []
   },
   "outputs": [],
   "source": [
    "# detector_rtcnst(ap, \"ex0\")"
   ]
  },
  {
   "cell_type": "code",
   "execution_count": 6,
   "id": "2724440f-3b21-42b2-a8e6-ade5c4c44295",
   "metadata": {},
   "outputs": [],
   "source": [
    "# detector_unused(ap, \"ex2\")"
   ]
  },
  {
   "cell_type": "code",
   "execution_count": 7,
   "id": "0759f5de-120e-4fe1-a23f-7a81e023f5b7",
   "metadata": {},
   "outputs": [
    {
     "data": {
      "text/plain": [
       "(True, ['div 225u8 0u8 into r0;'])"
      ]
     },
     "execution_count": 7,
     "metadata": {},
     "output_type": "execute_result"
    }
   ],
   "source": [
    "detector_divz(ap, \"ex1\")"
   ]
  },
  {
   "cell_type": "code",
   "execution_count": null,
   "id": "ae5cdbc3-a603-405a-a296-52d48864960b",
   "metadata": {},
   "outputs": [],
   "source": []
  },
  {
   "cell_type": "code",
   "execution_count": 6,
   "id": "f641a59b-0025-4650-aead-743bbcaa40ed",
   "metadata": {},
   "outputs": [
    {
     "data": {
      "text/plain": [
       "['r0', 'r1']"
      ]
     },
     "execution_count": 6,
     "metadata": {},
     "output_type": "execute_result"
    }
   ],
   "source": [
    "ap.get_function_arguments(\"join\", \"private\", \"inputs\")"
   ]
  },
  {
   "cell_type": "code",
   "execution_count": 10,
   "id": "8369758b-4077-449f-97d6-e26c3954a6e9",
   "metadata": {},
   "outputs": [
    {
     "data": {
      "text/plain": [
       "['r0', 'r1']"
      ]
     },
     "execution_count": 10,
     "metadata": {},
     "output_type": "execute_result"
    }
   ],
   "source": [
    "ap.get_function_arguments(\"join\", \"private\", \"inputs\")"
   ]
  },
  {
   "cell_type": "code",
   "execution_count": 9,
   "id": "bac7b43c-f409-4ed6-abf3-7d9a1ef5da51",
   "metadata": {},
   "outputs": [
    {
     "data": {
      "text/plain": [
       "[]"
      ]
     },
     "execution_count": 9,
     "metadata": {},
     "output_type": "execute_result"
    }
   ],
   "source": [
    "ap.get_function_arguments(\"join\", \"public\", \"outputs\")"
   ]
  },
  {
   "cell_type": "code",
   "execution_count": 9,
   "id": "499c69c5-95fb-4095-9ea8-9daa31ffeda7",
   "metadata": {},
   "outputs": [
    {
     "data": {
      "text/plain": [
       "[('r0.token', 'r1.token'),\n",
       " ('r1.token', 'r0.token'),\n",
       " ('r0.amount', 'r2'),\n",
       " ('r1.amount', 'r2'),\n",
       " ('r0.owner', 'r3'),\n",
       " ('r0.token', 'r3'),\n",
       " ('r2', 'r3')]"
      ]
     },
     "execution_count": 9,
     "metadata": {},
     "output_type": "execute_result"
    }
   ],
   "source": [
    "get_ifg_edges(ap, \"join\")"
   ]
  },
  {
   "cell_type": "code",
   "execution_count": 10,
   "id": "e9d2567b-d425-4c70-a485-fbd9aa4ce1d4",
   "metadata": {},
   "outputs": [
    {
     "data": {
      "text/plain": [
       "(False, [])"
      ]
     },
     "execution_count": 10,
     "metadata": {},
     "output_type": "execute_result"
    }
   ],
   "source": [
    "detector_simple_infoleak(ap, \"join\")"
   ]
  },
  {
   "cell_type": "code",
   "execution_count": null,
   "id": "9c23816d-2177-40bf-9bc2-e8c7ea3d97bb",
   "metadata": {},
   "outputs": [],
   "source": []
  }
 ],
 "metadata": {
  "kernelspec": {
   "display_name": "Python 3 (ipykernel)",
   "language": "python",
   "name": "python3"
  },
  "language_info": {
   "codemirror_mode": {
    "name": "ipython",
    "version": 3
   },
   "file_extension": ".py",
   "mimetype": "text/x-python",
   "name": "python",
   "nbconvert_exporter": "python",
   "pygments_lexer": "ipython3",
   "version": "3.10.9"
  }
 },
 "nbformat": 4,
 "nbformat_minor": 5
}
