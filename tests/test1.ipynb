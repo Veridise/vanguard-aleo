{
 "cells": [
  {
   "cell_type": "code",
   "execution_count": 1,
   "id": "6c52d804-5982-4fe1-8ebe-0b40481e273b",
   "metadata": {},
   "outputs": [],
   "source": [
    "# only run once every time kernel restarts\n",
    "import os\n",
    "os.chdir(\"..\")"
   ]
  },
  {
   "cell_type": "code",
   "execution_count": 2,
   "id": "b3988b02-3591-4e8b-b2fa-c141d19eb4fa",
   "metadata": {},
   "outputs": [],
   "source": [
    "from vanguard.aleo.common import aleo2json, get_ifg_edges\n",
    "from vanguard.aleo.grammar import AleoProgram\n",
    "from vanguard.aleo.detectors.infoleak import detector_simple_infoleak"
   ]
  },
  {
   "cell_type": "code",
   "execution_count": 3,
   "id": "807ff5c7-5ce1-4f07-8279-0c371a9172b3",
   "metadata": {},
   "outputs": [],
   "source": [
    "obj = aleo2json(\"./tests/aleoswap06.aleo\")"
   ]
  },
  {
   "cell_type": "code",
   "execution_count": 4,
   "id": "c832a668-f15e-4bfd-b670-7b469cfb815b",
   "metadata": {},
   "outputs": [],
   "source": [
    "ap = AleoProgram(json=obj)"
   ]
  },
  {
   "cell_type": "code",
   "execution_count": null,
   "id": "ebae5887-a20d-45c4-b919-099e5cb7bea3",
   "metadata": {},
   "outputs": [],
   "source": []
  },
  {
   "cell_type": "code",
   "execution_count": 5,
   "id": "ce8990c5-06b6-404a-a1ce-0fbbff1ef701",
   "metadata": {
    "scrolled": true,
    "tags": []
   },
   "outputs": [],
   "source": [
    "# import json\n",
    "# print(json.dumps(vm0.sjson))"
   ]
  },
  {
   "cell_type": "code",
   "execution_count": null,
   "id": "ae5cdbc3-a603-405a-a296-52d48864960b",
   "metadata": {},
   "outputs": [],
   "source": []
  },
  {
   "cell_type": "code",
   "execution_count": 6,
   "id": "f641a59b-0025-4650-aead-743bbcaa40ed",
   "metadata": {},
   "outputs": [
    {
     "data": {
      "text/plain": [
       "['r0', 'r1']"
      ]
     },
     "execution_count": 6,
     "metadata": {},
     "output_type": "execute_result"
    }
   ],
   "source": [
    "ap.get_function_arguments(\"join\", \"private\", \"inputs\")"
   ]
  },
  {
   "cell_type": "code",
   "execution_count": 7,
   "id": "8369758b-4077-449f-97d6-e26c3954a6e9",
   "metadata": {},
   "outputs": [
    {
     "data": {
      "text/plain": [
       "['r0']"
      ]
     },
     "execution_count": 7,
     "metadata": {},
     "output_type": "execute_result"
    }
   ],
   "source": [
    "ap.get_function_arguments(\"swap_exact_private_for_public\", \"private\", \"inputs\")"
   ]
  },
  {
   "cell_type": "code",
   "execution_count": 8,
   "id": "bac7b43c-f409-4ed6-abf3-7d9a1ef5da51",
   "metadata": {},
   "outputs": [
    {
     "ename": "KeyError",
     "evalue": "'swap_exact_private_for_public'",
     "output_type": "error",
     "traceback": [
      "\u001b[0;31m---------------------------------------------------------------------------\u001b[0m",
      "\u001b[0;31mKeyError\u001b[0m                                  Traceback (most recent call last)",
      "Cell \u001b[0;32mIn[8], line 1\u001b[0m\n\u001b[0;32m----> 1\u001b[0m \u001b[43map\u001b[49m\u001b[38;5;241;43m.\u001b[39;49m\u001b[43mget_function_arguments\u001b[49m\u001b[43m(\u001b[49m\u001b[38;5;124;43m\"\u001b[39;49m\u001b[38;5;124;43mswap_exact_private_for_public\u001b[39;49m\u001b[38;5;124;43m\"\u001b[39;49m\u001b[43m,\u001b[49m\u001b[43m \u001b[49m\u001b[38;5;124;43m\"\u001b[39;49m\u001b[38;5;124;43mpublic\u001b[39;49m\u001b[38;5;124;43m\"\u001b[39;49m\u001b[43m,\u001b[49m\u001b[43m \u001b[49m\u001b[38;5;124;43m\"\u001b[39;49m\u001b[38;5;124;43moutputs\u001b[39;49m\u001b[38;5;124;43m\"\u001b[39;49m\u001b[43m)\u001b[49m\n",
      "File \u001b[0;32m~/Desktop/UCSB/23fall/vanguard-aleo/vanguard/aleo/grammar.py:205\u001b[0m, in \u001b[0;36mAleoProgram.get_function_arguments\u001b[0;34m(self, func, vis, arg)\u001b[0m\n\u001b[1;32m    192\u001b[0m \u001b[38;5;28;01mfor\u001b[39;00m inst \u001b[38;5;129;01min\u001b[39;00m node[arg]:\n\u001b[1;32m    193\u001b[0m     tokens \u001b[38;5;241m=\u001b[39m inst[\u001b[38;5;124m\"\u001b[39m\u001b[38;5;124mstr\u001b[39m\u001b[38;5;124m\"\u001b[39m]\u001b[38;5;241m.\u001b[39mstrip(\u001b[38;5;124m\"\u001b[39m\u001b[38;5;124m;\u001b[39m\u001b[38;5;124m\"\u001b[39m)\u001b[38;5;241m.\u001b[39msplit()\n\u001b[1;32m    194\u001b[0m     \u001b[38;5;28;01mmatch\u001b[39;00m tokens:\n\u001b[1;32m    195\u001b[0m \n\u001b[1;32m    196\u001b[0m         \u001b[38;5;28;01mcase\u001b[39;00m [arg, r, \u001b[38;5;124m\"\u001b[39m\u001b[38;5;124mas\u001b[39m\u001b[38;5;124m\"\u001b[39m, t] \u001b[38;5;28;01mif\u001b[39;00m t\u001b[38;5;241m.\u001b[39mendswith(\u001b[38;5;124m\"\u001b[39m\u001b[38;5;124m.public\u001b[39m\u001b[38;5;124m\"\u001b[39m) \u001b[38;5;129;01mor\u001b[39;00m t\u001b[38;5;241m.\u001b[39mendswith(\u001b[38;5;124m\"\u001b[39m\u001b[38;5;124m.private\u001b[39m\u001b[38;5;124m\"\u001b[39m):\n\u001b[1;32m    197\u001b[0m             \u001b[38;5;28;01mif\u001b[39;00m t\u001b[38;5;241m.\u001b[39mendswith(\u001b[38;5;124mf\u001b[39m\u001b[38;5;124m\"\u001b[39m\u001b[38;5;124m.\u001b[39m\u001b[38;5;132;01m{\u001b[39;00mvis\u001b[38;5;132;01m}\u001b[39;00m\u001b[38;5;124m\"\u001b[39m):\n\u001b[1;32m    198\u001b[0m                 \u001b[38;5;28mvars\u001b[39m\u001b[38;5;241m.\u001b[39mappend(r)\n\u001b[1;32m    199\u001b[0m \n\u001b[1;32m    200\u001b[0m         \u001b[38;5;28;01mcase\u001b[39;00m [arg, r, \u001b[38;5;124m\"\u001b[39m\u001b[38;5;124mas\u001b[39m\u001b[38;5;124m\"\u001b[39m, t]:\n\u001b[1;32m    201\u001b[0m             \u001b[38;5;66;03m# FIXME: consider types in other imports\u001b[39;00m\n\u001b[1;32m    202\u001b[0m             \u001b[38;5;66;03m#    ex: other.aleo/swap_exact_private_for_public.future\u001b[39;00m\n\u001b[1;32m    203\u001b[0m             ts \u001b[38;5;241m=\u001b[39m t\u001b[38;5;241m.\u001b[39msplit(\u001b[38;5;124m\"\u001b[39m\u001b[38;5;124m/\u001b[39m\u001b[38;5;124m\"\u001b[39m)[\u001b[38;5;241m-\u001b[39m\u001b[38;5;241m1\u001b[39m]\u001b[38;5;241m.\u001b[39msplit(\u001b[38;5;124m\"\u001b[39m\u001b[38;5;124m.\u001b[39m\u001b[38;5;124m\"\u001b[39m)\n\u001b[1;32m    204\u001b[0m             \u001b[38;5;28;01mif\u001b[39;00m \u001b[38;5;28mlen\u001b[39m(ts) \u001b[38;5;241m==\u001b[39m \u001b[38;5;241m2\u001b[39m:\n\u001b[0;32m--> 205\u001b[0m                 \u001b[38;5;28;01mif\u001b[39;00m \u001b[38;5;28;43mself\u001b[39;49m\u001b[38;5;241;43m.\u001b[39;49m\u001b[43mrecords\u001b[49m\u001b[43m[\u001b[49m\u001b[43mts\u001b[49m\u001b[43m[\u001b[49m\u001b[38;5;241;43m0\u001b[39;49m\u001b[43m]\u001b[49m\u001b[43m]\u001b[49m[\u001b[38;5;124m\"\u001b[39m\u001b[38;5;124mowner\u001b[39m\u001b[38;5;124m\"\u001b[39m] \u001b[38;5;241m==\u001b[39m vis:\n\u001b[1;32m    206\u001b[0m                     \u001b[38;5;28mvars\u001b[39m\u001b[38;5;241m.\u001b[39mappend(r)\n\u001b[1;32m    207\u001b[0m             \u001b[38;5;28;01melse\u001b[39;00m:\n\u001b[1;32m    208\u001b[0m                 \u001b[38;5;28;01mraise\u001b[39;00m \u001b[38;5;167;01mNotImplementedError\u001b[39;00m(\u001b[38;5;124mf\u001b[39m\u001b[38;5;124m\"\u001b[39m\u001b[38;5;124mUnknown type, got: \u001b[39m\u001b[38;5;132;01m{\u001b[39;00mt\u001b[38;5;132;01m}\u001b[39;00m\u001b[38;5;124m\"\u001b[39m)\n\u001b[1;32m    209\u001b[0m         \n\u001b[1;32m    210\u001b[0m         \u001b[38;5;28;01mcase\u001b[39;00m \u001b[38;5;28;01m_\u001b[39;00m:\n\u001b[1;32m    211\u001b[0m             \u001b[38;5;28;01mraise\u001b[39;00m \u001b[38;5;167;01mNotImplementedError\u001b[39;00m(\u001b[38;5;124mf\u001b[39m\u001b[38;5;124m\"\u001b[39m\u001b[38;5;124mUnknown input/output pattern, got: \u001b[39m\u001b[38;5;132;01m{\u001b[39;00minst[\u001b[38;5;124m'\u001b[39m\u001b[38;5;124mstr\u001b[39m\u001b[38;5;124m'\u001b[39m]\u001b[38;5;132;01m}\u001b[39;00m\u001b[38;5;124m\"\u001b[39m)\n\u001b[1;32m    213\u001b[0m \u001b[38;5;28;01mreturn\u001b[39;00m \u001b[38;5;28mvars\u001b[39m\n",
      "\u001b[0;31mKeyError\u001b[0m: 'swap_exact_private_for_public'"
     ]
    }
   ],
   "source": [
    "ap.get_function_arguments(\"swap_exact_private_for_public\", \"public\", \"outputs\")"
   ]
  },
  {
   "cell_type": "code",
   "execution_count": 9,
   "id": "499c69c5-95fb-4095-9ea8-9daa31ffeda7",
   "metadata": {},
   "outputs": [
    {
     "data": {
      "text/plain": [
       "[('r0.token', 'r1.token'),\n",
       " ('r1.token', 'r0.token'),\n",
       " ('r0.amount', 'r2'),\n",
       " ('r1.amount', 'r2'),\n",
       " ('r0.owner', 'r3'),\n",
       " ('r0.token', 'r3'),\n",
       " ('r2', 'r3')]"
      ]
     },
     "execution_count": 9,
     "metadata": {},
     "output_type": "execute_result"
    }
   ],
   "source": [
    "get_ifg_edges(ap, \"join\")"
   ]
  },
  {
   "cell_type": "code",
   "execution_count": 10,
   "id": "e9d2567b-d425-4c70-a485-fbd9aa4ce1d4",
   "metadata": {},
   "outputs": [
    {
     "data": {
      "text/plain": [
       "(False, [])"
      ]
     },
     "execution_count": 10,
     "metadata": {},
     "output_type": "execute_result"
    }
   ],
   "source": [
    "detector_simple_infoleak(ap, \"join\")"
   ]
  },
  {
   "cell_type": "code",
   "execution_count": null,
   "id": "9c23816d-2177-40bf-9bc2-e8c7ea3d97bb",
   "metadata": {},
   "outputs": [],
   "source": []
  }
 ],
 "metadata": {
  "kernelspec": {
   "display_name": "Python 3 (ipykernel)",
   "language": "python",
   "name": "python3"
  },
  "language_info": {
   "codemirror_mode": {
    "name": "ipython",
    "version": 3
   },
   "file_extension": ".py",
   "mimetype": "text/x-python",
   "name": "python",
   "nbconvert_exporter": "python",
   "pygments_lexer": "ipython3",
   "version": "3.10.9"
  }
 },
 "nbformat": 4,
 "nbformat_minor": 5
}
