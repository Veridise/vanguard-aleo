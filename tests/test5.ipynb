{
 "cells": [
  {
   "cell_type": "code",
   "execution_count": null,
   "id": "557e4813-95f6-476b-b2ec-ca6749c8d3b6",
   "metadata": {},
   "outputs": [],
   "source": [
    "# only run once every time kernel restarts\n",
    "import json\n",
    "import os\n",
    "import sys\n",
    "from antlr4 import *\n",
    "os.chdir(\"..\")"
   ]
  },
  {
   "cell_type": "code",
   "execution_count": null,
   "id": "034cb799-a6c9-41b4-9206-6988f3365648",
   "metadata": {},
   "outputs": [],
   "source": []
  },
  {
   "cell_type": "code",
   "execution_count": null,
   "id": "54fc49a6-75c4-4101-82dc-9582094cd02f",
   "metadata": {},
   "outputs": [],
   "source": [
    "from vanguard.aleo.common import aleo2json"
   ]
  },
  {
   "cell_type": "code",
   "execution_count": null,
   "id": "f5d222e5-e222-41e6-88dd-3034083e27a4",
   "metadata": {},
   "outputs": [],
   "source": [
    "project_name = \"infoleak0\"\n",
    "tree = aleo2json(f\"./tests/public/{project_name}/build/main.aleo\")"
   ]
  },
  {
   "cell_type": "code",
   "execution_count": null,
   "id": "e473553b-daef-4a63-becf-f0546421167f",
   "metadata": {
    "scrolled": true
   },
   "outputs": [],
   "source": [
    "print(json.dumps(tree))"
   ]
  },
  {
   "cell_type": "code",
   "execution_count": null,
   "id": "510f838c-d698-492a-b467-2e673b8c8ba0",
   "metadata": {},
   "outputs": [],
   "source": []
  },
  {
   "cell_type": "code",
   "execution_count": null,
   "id": "b8e3fece-9b3c-4ae7-adfb-9da153925bfa",
   "metadata": {},
   "outputs": [],
   "source": [
    "from vanguard.aleo.parser.AleoLexer import AleoLexer\n",
    "from vanguard.aleo.parser.AleoParser import AleoParser\n",
    "from vanguard.aleo.parser.AleoListener import AleoListener"
   ]
  },
  {
   "cell_type": "code",
   "execution_count": null,
   "id": "83e090b1-3ec3-4ce5-b668-342a538aebba",
   "metadata": {},
   "outputs": [],
   "source": [
    "project_name = \"infoleak0\"\n",
    "input_stream = FileStream(f\"./tests/public/{project_name}/build/main.aleo\")\n",
    "lexer = AleoLexer(input_stream)\n",
    "stream = CommonTokenStream(lexer)\n",
    "parser = AleoParser(stream)\n",
    "tree = parser.start()"
   ]
  },
  {
   "cell_type": "code",
   "execution_count": null,
   "id": "0b957145-83b5-4b02-9ecc-ee1e5bf18fff",
   "metadata": {},
   "outputs": [],
   "source": [
    "linterp = AleoListener()\n",
    "walker = ParseTreeWalker()\n",
    "walker.walk(linterp, tree)"
   ]
  },
  {
   "cell_type": "code",
   "execution_count": null,
   "id": "21f93588-daa7-4cd5-b7d1-7c5d55fbeb61",
   "metadata": {},
   "outputs": [],
   "source": [
    "from antlr4.tree.Trees import Trees"
   ]
  },
  {
   "cell_type": "code",
   "execution_count": null,
   "id": "11b3d4eb-6115-45a2-bf0d-423e8aa15cdc",
   "metadata": {
    "scrolled": true
   },
   "outputs": [],
   "source": [
    "print(Trees.toStringTree(tree, None, parser))"
   ]
  },
  {
   "cell_type": "code",
   "execution_count": null,
   "id": "33e25c47-0217-47d8-85b8-33bd24cb3481",
   "metadata": {},
   "outputs": [],
   "source": []
  },
  {
   "cell_type": "code",
   "execution_count": null,
   "id": "4b0500e8-7593-443d-8cae-ced63fdc27f6",
   "metadata": {},
   "outputs": [],
   "source": []
  },
  {
   "cell_type": "code",
   "execution_count": null,
   "id": "186bc3e1-b0c2-45c0-8930-c5afecd272f3",
   "metadata": {},
   "outputs": [],
   "source": []
  },
  {
   "cell_type": "code",
   "execution_count": null,
   "id": "96c409b0-77f2-4a54-8c29-793e81e1563d",
   "metadata": {},
   "outputs": [],
   "source": [
    "lexer.literalNames[129]"
   ]
  },
  {
   "cell_type": "code",
   "execution_count": null,
   "id": "7c98f643-c8f8-4416-9c72-33158e101c4e",
   "metadata": {},
   "outputs": [],
   "source": []
  },
  {
   "cell_type": "code",
   "execution_count": null,
   "id": "5df0e3a2-8bff-46bb-b2dd-43e247f90655",
   "metadata": {
    "scrolled": true
   },
   "outputs": [],
   "source": [
    "list(map(str,stream.tokens))"
   ]
  },
  {
   "cell_type": "code",
   "execution_count": null,
   "id": "89ba999d-781b-48c5-b383-b918b91229dd",
   "metadata": {},
   "outputs": [],
   "source": []
  }
 ],
 "metadata": {
  "kernelspec": {
   "display_name": "Python 3 (ipykernel)",
   "language": "python",
   "name": "python3"
  },
  "language_info": {
   "codemirror_mode": {
    "name": "ipython",
    "version": 3
   },
   "file_extension": ".py",
   "mimetype": "text/x-python",
   "name": "python",
   "nbconvert_exporter": "python",
   "pygments_lexer": "ipython3",
   "version": "3.12.0"
  }
 },
 "nbformat": 4,
 "nbformat_minor": 5
}
