{
 "cells": [
  {
   "cell_type": "code",
   "execution_count": 1,
   "id": "4c8e2fda-c143-4942-b20d-48ebfe6b5b2d",
   "metadata": {},
   "outputs": [],
   "source": [
    "# only run once every time kernel restarts\n",
    "import json\n",
    "import os\n",
    "os.chdir(\"..\")"
   ]
  },
  {
   "cell_type": "code",
   "execution_count": 2,
   "id": "1bd6be3d-a5e1-4ee0-b63f-5c5314c97be1",
   "metadata": {},
   "outputs": [],
   "source": [
    "from vanguard.aleo.common import aleo2json"
   ]
  },
  {
   "cell_type": "code",
   "execution_count": 3,
   "id": "92552997-9c7a-4338-b83a-d0fca318fb33",
   "metadata": {
    "scrolled": true
   },
   "outputs": [],
   "source": [
    "project_name = \"divz0\"\n",
    "obj = aleo2json(f\"./tests/public/{project_name}/build/main.aleo\")"
   ]
  },
  {
   "cell_type": "code",
   "execution_count": null,
   "id": "458ed9da-df04-4fe2-bdfb-bdef4b4766df",
   "metadata": {},
   "outputs": [],
   "source": [
    "print(json.dumps(obj))"
   ]
  },
  {
   "cell_type": "code",
   "execution_count": null,
   "id": "f97f8fd6-b302-43ea-a053-cf1366f87019",
   "metadata": {},
   "outputs": [],
   "source": []
  }
 ],
 "metadata": {
  "kernelspec": {
   "display_name": "Python 3 (ipykernel)",
   "language": "python",
   "name": "python3"
  },
  "language_info": {
   "codemirror_mode": {
    "name": "ipython",
    "version": 3
   },
   "file_extension": ".py",
   "mimetype": "text/x-python",
   "name": "python",
   "nbconvert_exporter": "python",
   "pygments_lexer": "ipython3",
   "version": "3.12.0"
  }
 },
 "nbformat": 4,
 "nbformat_minor": 5
}
