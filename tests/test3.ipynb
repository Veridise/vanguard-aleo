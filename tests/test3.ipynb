{
 "cells": [
  {
   "cell_type": "code",
   "execution_count": null,
   "id": "4c8e2fda-c143-4942-b20d-48ebfe6b5b2d",
   "metadata": {},
   "outputs": [],
   "source": [
    "# only run once every time kernel restarts\n",
    "import json\n",
    "import os\n",
    "os.chdir(\"..\")"
   ]
  },
  {
   "cell_type": "code",
   "execution_count": null,
   "id": "1bd6be3d-a5e1-4ee0-b63f-5c5314c97be1",
   "metadata": {},
   "outputs": [],
   "source": [
    "from vanguard.aleo.testing import crawl_from_haruka_explorer, crawl_from_aleo_explorer"
   ]
  },
  {
   "cell_type": "code",
   "execution_count": null,
   "id": "92552997-9c7a-4338-b83a-d0fca318fb33",
   "metadata": {
    "scrolled": true
   },
   "outputs": [],
   "source": [
    "# crawl_from_haruka_explorer(1, 16, \"tests/explorer/haruka/\")\n",
    "crawl_from_aleo_explorer(\"tests/explorer/aleo/\")"
   ]
  },
  {
   "cell_type": "code",
   "execution_count": null,
   "id": "458ed9da-df04-4fe2-bdfb-bdef4b4766df",
   "metadata": {},
   "outputs": [],
   "source": []
  },
  {
   "cell_type": "code",
   "execution_count": null,
   "id": "13cab74f-7fdc-41ac-8b1f-1e0831158e6a",
   "metadata": {},
   "outputs": [],
   "source": [
    "import os\n",
    "import time\n",
    "os.chdir(\"..\")\n",
    "from vanguard.aleo.common import aleo2json\n",
    "\n",
    "# for dp, _, fns in os.walk(\"tests/explorer/haruka/\"):\n",
    "for dp, _, fns in os.walk(\"tests/explorer/aleo/\"):\n",
    "    for fn in fns:\n",
    "        p = os.path.abspath(os.path.join(dp, fn))\n",
    "        print(f\"# parsing: {p} ... \", end=\"\")\n",
    "        s = time.time()\n",
    "        obj = aleo2json(p)\n",
    "        e = time.time()\n",
    "        print(f\"{e-s}s\")"
   ]
  },
  {
   "cell_type": "code",
   "execution_count": null,
   "id": "aad44479-9c1f-4784-acff-006dd4f27ce4",
   "metadata": {},
   "outputs": [],
   "source": []
  }
 ],
 "metadata": {
  "kernelspec": {
   "display_name": "Python 3 (ipykernel)",
   "language": "python",
   "name": "python3"
  },
  "language_info": {
   "codemirror_mode": {
    "name": "ipython",
    "version": 3
   },
   "file_extension": ".py",
   "mimetype": "text/x-python",
   "name": "python",
   "nbconvert_exporter": "python",
   "pygments_lexer": "ipython3",
   "version": "3.12.0"
  }
 },
 "nbformat": 4,
 "nbformat_minor": 5
}
