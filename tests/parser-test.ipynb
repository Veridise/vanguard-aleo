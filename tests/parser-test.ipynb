{
 "cells": [
  {
   "cell_type": "code",
   "execution_count": 1,
   "id": "b439b0ab-8ad1-4c79-8c36-8c55615e62ba",
   "metadata": {},
   "outputs": [],
   "source": [
    "# only run once every time kernel restarts\n",
    "import json\n",
    "import os\n",
    "import sys\n",
    "from antlr4 import *\n",
    "os.chdir(\"..\")"
   ]
  },
  {
   "cell_type": "code",
   "execution_count": 2,
   "id": "afeeaa30-fe75-4ca3-9087-1616d4f9e47f",
   "metadata": {},
   "outputs": [],
   "source": [
    "from vanguard.aleo.parser.AleoLexer import AleoLexer\n",
    "from vanguard.aleo.parser.AleoParser import AleoParser"
   ]
  },
  {
   "cell_type": "code",
   "execution_count": 3,
   "id": "6ac36649-a816-48b8-a6d0-5aae0986f476",
   "metadata": {},
   "outputs": [],
   "source": [
    "# input_stream = FileStream(f\"./tests/lexer-test.aleo\")\n",
    "input_stream = FileStream(f\"./tests/public/divz0/build/main.aleo\")\n",
    "lexer = AleoLexer(input_stream)\n",
    "stream = CommonTokenStream(lexer)\n",
    "parser = AleoParser(stream)\n",
    "tree = parser.start()"
   ]
  },
  {
   "cell_type": "code",
   "execution_count": 4,
   "id": "af74a25c-8617-4b2c-ae17-a0e37b17ff41",
   "metadata": {},
   "outputs": [],
   "source": [
    "from vanguard.aleo.common import Trees"
   ]
  },
  {
   "cell_type": "code",
   "execution_count": 5,
   "id": "1d6a7e25-1d35-4537-a2ce-c412655029b5",
   "metadata": {},
   "outputs": [],
   "source": [
    "obj = Trees.toJsonTree(tree, None, parser)"
   ]
  },
  {
   "cell_type": "code",
   "execution_count": null,
   "id": "900223bc-1536-4c64-8620-9178e182a98a",
   "metadata": {},
   "outputs": [],
   "source": []
  },
  {
   "cell_type": "code",
   "execution_count": null,
   "id": "ff0df43a-03bf-4858-a245-ca8db5598e85",
   "metadata": {},
   "outputs": [],
   "source": []
  },
  {
   "cell_type": "code",
   "execution_count": null,
   "id": "e0f1d0c2-07b9-440d-8cb2-e5088430102d",
   "metadata": {},
   "outputs": [],
   "source": [
    "p = \"./tests/explorer/aleo/aleoswap05.aleo\"\n",
    "input_stream = FileStream(p)\n",
    "lexer = AleoLexer(input_stream)\n",
    "stream = CommonTokenStream(lexer)\n",
    "parser = AleoParser(stream)\n",
    "tree = parser.start()"
   ]
  },
  {
   "cell_type": "code",
   "execution_count": 1,
   "id": "c6cebd12-8244-4b87-afe9-14e7a6142674",
   "metadata": {},
   "outputs": [
    {
     "name": "stdout",
     "output_type": "stream",
     "text": [
      "# parsing: sultan_suleyman_dapp.aleo ... 0.015514135360717773s\n",
      "# parsing: xxxx_aleo_vvvv_v6.aleo ... 0.004353046417236328s\n",
      "# parsing: addressinterview.aleo ... 0.03470802307128906s\n",
      "# parsing: computing_power_klass_v2.aleo ... 0.0077991485595703125s\n",
      "# parsing: positiveheavyitself.aleo ... 0.01737499237060547s\n",
      "# parsing: itisthebestprojectv1.aleo ... 0.002393960952758789s\n",
      "# parsing: aleo_monopoly_workshop8.aleo ... 0.17190790176391602s\n",
      "# parsing: severaloptionsociety.aleo ... 0.017536163330078125s\n",
      "# parsing: private_app_with_voo.aleo ... 0.002492189407348633s\n",
      "# parsing: exoderil_v0.aleo ... 0.004836082458496094s\n",
      "# parsing: aleo_monopoly_workshop9.aleo ... 0.1309669017791748s\n",
      "# parsing: gijduvan_samsa.aleo ... 0.0031991004943847656s\n",
      "# parsing: muqaddas_oyin_version.aleo ... 0.0025129318237304688s\n",
      "# parsing: closefivedeal.aleo ... 0.008116960525512695s\n",
      "# parsing: dvijok_vsix_seven.aleo ... 0.002334117889404297s\n",
      "# parsing: durov_verni_stenu.aleo ... 0.00238800048828125s\n",
      "# parsing: credits.aleo ... 0.07155394554138184s\n",
      "# parsing: fy_best_player_vers.aleo ... 0.0027039051055908203s\n",
      "# parsing: wirtual_drivers.aleo ... 0.0023050308227539062s\n",
      "# parsing: whoes_the_dragon_v01.aleo ... 0.12082886695861816s\n",
      "# parsing: seemclosetv.aleo ... 0.01531982421875s\n",
      "# parsing: issuer_verifier_zpass_test1.aleo ... 0.04807400703430176s\n",
      "# parsing: farnationallook.aleo ... 0.010294914245605469s\n",
      "# parsing: randgen_4_player.aleo ... 0.01423501968383789s\n",
      "# parsing: vvvzkmaleoaleo_v10.aleo ... 0.005627870559692383s\n",
      "# parsing: finalize_fail_testing_1.aleo ... 0.0018410682678222656s\n",
      "# parsing: fatherbackcatch.aleo ... 0.023590803146362305s\n",
      "# parsing: young_ggg_loveit6.aleo ... 0.002628803253173828s\n",
      "# parsing: hello_my_friend_tech.aleo ... 0.0029821395874023438s\n",
      "# parsing: alo_xxxxx_alo_v8.aleo ... 0.0021829605102539062s\n",
      "# parsing: bestprj_qqqq_v5.aleo ... 0.02935504913330078s\n",
      "# parsing: just_callme_aleov1.aleo ... 0.002824068069458008s\n",
      "# parsing: radio_joystick_v1.aleo ... 0.0024008750915527344s\n",
      "# parsing: hurrem_kozgoogli.aleo ... 0.002270221710205078s\n",
      "# parsing: llll_pppp_aleo_v4.aleo ... 0.0024650096893310547s\n",
      "# parsing: raqqqz_dancer_v0.aleo ... 0.002216815948486328s\n",
      "# parsing: programmer_stable.aleo ... 0.0021643638610839844s\n",
      "# parsing: yong_pieces_v01.aleo ... 0.12721872329711914s\n",
      "# parsing: shoulderbudget.aleo ... 0.02265000343322754s\n",
      "# parsing: michaelander_v0.aleo ... 0.004739046096801758s\n",
      "# parsing: ranasdasgo_player.aleo ... 0.014031171798706055s\n",
      "# parsing: juggernaut_blade.aleo ... 0.003021717071533203s\n",
      "# parsing: taxinterviewsenior.aleo ... 0.01214599609375s\n",
      "# parsing: eyejoininclude.aleo ... 0.01909494400024414s\n",
      "# parsing: quest_mint_v1.aleo ... 0.029963016510009766s\n",
      "# parsing: gibrofebiounus.aleo ... 0.0022230148315429688s\n",
      "# parsing: golden_scalloop.aleo ... 0.002416849136352539s\n",
      "# parsing: lspd_los_santos_v2.aleo ... 0.002254009246826172s\n",
      "# parsing: tos_electonik_v0.aleo ... 0.002362966537475586s\n",
      "# parsing: infinity_jjj_nine.aleo ... 0.0023818016052246094s\n"
     ]
    }
   ],
   "source": [
    "import os\n",
    "import time\n",
    "os.chdir(\"..\")\n",
    "\n",
    "from antlr4 import *\n",
    "from vanguard.aleo.parser.AleoLexer import AleoLexer\n",
    "from vanguard.aleo.parser.AleoParser import AleoParser\n",
    "\n",
    "for dp, _, fns in os.walk(\"tests/explorer/haruka/\"):\n",
    "# for dp, _, fns in os.walk(\"tests/explorer/aleo/\"):\n",
    "    for fn in fns:\n",
    "        p = os.path.abspath(os.path.join(dp, fn))\n",
    "        # print(f\"# parsing: {p} ... \", end=\"\")\n",
    "        print(f\"# parsing: {fn} ... \", end=\"\")\n",
    "        s = time.time()\n",
    "\n",
    "        input_stream = FileStream(p)\n",
    "        lexer = AleoLexer(input_stream)\n",
    "        stream = CommonTokenStream(lexer)\n",
    "        parser = AleoParser(stream)\n",
    "        tree = parser.start()\n",
    "        \n",
    "        e = time.time()\n",
    "        print(f\"{e-s}s\")"
   ]
  },
  {
   "cell_type": "code",
   "execution_count": null,
   "id": "a9d4327a-355a-46b0-a05b-cb34c60cf25b",
   "metadata": {},
   "outputs": [],
   "source": []
  }
 ],
 "metadata": {
  "kernelspec": {
   "display_name": "Python 3 (ipykernel)",
   "language": "python",
   "name": "python3"
  },
  "language_info": {
   "codemirror_mode": {
    "name": "ipython",
    "version": 3
   },
   "file_extension": ".py",
   "mimetype": "text/x-python",
   "name": "python",
   "nbconvert_exporter": "python",
   "pygments_lexer": "ipython3",
   "version": "3.12.0"
  }
 },
 "nbformat": 4,
 "nbformat_minor": 5
}
