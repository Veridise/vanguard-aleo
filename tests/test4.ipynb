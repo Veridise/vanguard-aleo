{
 "cells": [
  {
   "cell_type": "code",
   "execution_count": 1,
   "id": "8c6764a1-8835-4b6f-8ff2-32700801ffb9",
   "metadata": {},
   "outputs": [],
   "source": [
    "# only run once every time kernel restarts\n",
    "import json\n",
    "import os\n",
    "from lark import Lark\n",
    "os.chdir(\"..\")"
   ]
  },
  {
   "cell_type": "code",
   "execution_count": 2,
   "id": "b34815c6-9610-4ef1-a7d2-4ee62cd30ae7",
   "metadata": {},
   "outputs": [],
   "source": [
    "from vanguard.aleo.grammar import AleoProgram, AleoEnvironment\n",
    "from vanguard.aleo.detectors.infoleak import detector_infoleak\n",
    "from vanguard.aleo.detectors.rtcnst import detector_rtcnst\n",
    "from vanguard.aleo.detectors.unused import detector_unused\n",
    "from vanguard.aleo.detectors.divz import detector_divz"
   ]
  },
  {
   "cell_type": "code",
   "execution_count": 3,
   "id": "b4849e3a-50d8-4fd4-83e5-5fa5b16ae96e",
   "metadata": {},
   "outputs": [
    {
     "name": "stdout",
     "output_type": "stream",
     "text": [
      "# [debug] deploy: main.aleo\n",
      "# [debug] deploy: helpers.aleo\n"
     ]
    }
   ],
   "source": [
    "project_name = \"divz0\"\n",
    "# project_name = \"infoleak0\"\n",
    "# project_name = \"unused0\"\n",
    "# project_name = \"rtcnst0\"\n",
    "build_path = f\"./tests/public/{project_name}/build/\"\n",
    "env = AleoEnvironment(build_path)\n",
    "main = env.main"
   ]
  },
  {
   "cell_type": "code",
   "execution_count": null,
   "id": "7e7f213c-e3da-4042-9207-867305d7b5e2",
   "metadata": {},
   "outputs": [],
   "source": []
  },
  {
   "cell_type": "code",
   "execution_count": 9,
   "id": "0dc6fcff-f8b2-44cb-8919-fda9b23c0b49",
   "metadata": {},
   "outputs": [
    {
     "ename": "KeyError",
     "evalue": "'ex26'",
     "output_type": "error",
     "traceback": [
      "\u001b[0;31m---------------------------------------------------------------------------\u001b[0m",
      "\u001b[0;31mKeyError\u001b[0m                                  Traceback (most recent call last)",
      "Cell \u001b[0;32mIn[9], line 2\u001b[0m\n\u001b[1;32m      1\u001b[0m fid \u001b[38;5;241m=\u001b[39m \u001b[38;5;124m\"\u001b[39m\u001b[38;5;124mex26\u001b[39m\u001b[38;5;124m\"\u001b[39m\n\u001b[0;32m----> 2\u001b[0m \u001b[43mdetector_divz\u001b[49m\u001b[43m(\u001b[49m\u001b[43menv\u001b[49m\u001b[43m,\u001b[49m\u001b[43m \u001b[49m\u001b[43mmain\u001b[49m\u001b[38;5;241;43m.\u001b[39;49m\u001b[43mid\u001b[49m\u001b[43m,\u001b[49m\u001b[43m \u001b[49m\u001b[43mfid\u001b[49m\u001b[43m,\u001b[49m\u001b[43m \u001b[49m\u001b[43mreadable\u001b[49m\u001b[38;5;241;43m=\u001b[39;49m\u001b[38;5;28;43;01mTrue\u001b[39;49;00m\u001b[43m)\u001b[49m\n",
      "File \u001b[0;32m~/Desktop/UCSB/24winter/vanguard-aleo/vanguard/aleo/detectors/divz.py:158\u001b[0m, in \u001b[0;36mdetector_divz\u001b[0;34m(env, pid, fid, readable)\u001b[0m\n\u001b[1;32m    155\u001b[0m \u001b[38;5;28;01mdef\u001b[39;00m \u001b[38;5;21mdetector_divz\u001b[39m(env: AleoEnvironment, pid: \u001b[38;5;28mstr\u001b[39m, fid: \u001b[38;5;28mstr\u001b[39m, readable\u001b[38;5;241m=\u001b[39m\u001b[38;5;28;01mFalse\u001b[39;00m):\n\u001b[1;32m    156\u001b[0m     \u001b[38;5;66;03m# initialize\u001b[39;00m\n\u001b[1;32m    157\u001b[0m     prog: AleoProgram \u001b[38;5;241m=\u001b[39m env\u001b[38;5;241m.\u001b[39mprograms[pid]\n\u001b[0;32m--> 158\u001b[0m     func: AleoFunction \u001b[38;5;241m=\u001b[39m \u001b[43mprog\u001b[49m\u001b[38;5;241;43m.\u001b[39;49m\u001b[43mfunctions\u001b[49m\u001b[43m[\u001b[49m\u001b[43mfid\u001b[49m\u001b[43m]\u001b[49m\n\u001b[1;32m    160\u001b[0m     \u001b[38;5;66;03m# store problematic instructions\u001b[39;00m\n\u001b[1;32m    161\u001b[0m     lines \u001b[38;5;241m=\u001b[39m []\n",
      "\u001b[0;31mKeyError\u001b[0m: 'ex26'"
     ]
    }
   ],
   "source": [
    "fid = \"ex26\"\n",
    "detector_divz(env, main.id, fid, readable=True)"
   ]
  },
  {
   "cell_type": "code",
   "execution_count": null,
   "id": "e895857f-8473-4e0e-a561-3553469ceceb",
   "metadata": {},
   "outputs": [],
   "source": []
  },
  {
   "cell_type": "code",
   "execution_count": null,
   "id": "a983f9b5-286c-4748-b2c7-b450ff0d7948",
   "metadata": {},
   "outputs": [],
   "source": []
  }
 ],
 "metadata": {
  "kernelspec": {
   "display_name": "Python 3 (ipykernel)",
   "language": "python",
   "name": "python3"
  },
  "language_info": {
   "codemirror_mode": {
    "name": "ipython",
    "version": 3
   },
   "file_extension": ".py",
   "mimetype": "text/x-python",
   "name": "python",
   "nbconvert_exporter": "python",
   "pygments_lexer": "ipython3",
   "version": "3.12.0"
  }
 },
 "nbformat": 4,
 "nbformat_minor": 5
}
