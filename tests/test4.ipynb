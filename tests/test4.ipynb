{
 "cells": [
  {
   "cell_type": "code",
   "execution_count": 1,
   "id": "8c6764a1-8835-4b6f-8ff2-32700801ffb9",
   "metadata": {},
   "outputs": [],
   "source": [
    "# only run once every time kernel restarts\n",
    "import json\n",
    "import os\n",
    "os.chdir(\"..\")"
   ]
  },
  {
   "cell_type": "code",
   "execution_count": 2,
   "id": "b34815c6-9610-4ef1-a7d2-4ee62cd30ae7",
   "metadata": {},
   "outputs": [],
   "source": [
    "from vanguard.aleo.grammar import AleoProgram, AleoEnvironment\n",
    "\n",
    "from vanguard.aleo.detectors import detector_infoleak\n",
    "from vanguard.aleo.detectors import detector_rtcnst\n",
    "from vanguard.aleo.detectors import detector_unused\n",
    "from vanguard.aleo.detectors import detector_divz\n",
    "from vanguard.aleo.detectors import detector_emptyf\n",
    "from vanguard.aleo.detectors import detector_magicv\n",
    "from vanguard.aleo.detectors import detector_susinst\n",
    "from vanguard.aleo.detectors import detector_divrd\n",
    "from vanguard.aleo.detectors import detector_downcast\n",
    "\n",
    "from vanguard.aleo.testing import run_test_suite"
   ]
  },
  {
   "cell_type": "code",
   "execution_count": 3,
   "id": "b4849e3a-50d8-4fd4-83e5-5fa5b16ae96e",
   "metadata": {},
   "outputs": [
    {
     "name": "stdout",
     "output_type": "stream",
     "text": [
      "# [debug] deploy: main.aleo\n"
     ]
    }
   ],
   "source": [
    "# project_name = \"divz0\"\n",
    "# project_name = \"infoleak0\"\n",
    "# project_name = \"unused0\"\n",
    "# project_name = \"rtcnst0\"\n",
    "# project_name = \"emptyf0\"\n",
    "# project_name = \"magicv0\"\n",
    "# project_name = \"susinst0\"\n",
    "# project_name = \"divrd0\"\n",
    "project_name = \"downcast0\"\n",
    "build_path = f\"./tests/public/{project_name}/build/\"\n",
    "env = AleoEnvironment.from_project(build_path)\n",
    "main = env.main"
   ]
  },
  {
   "cell_type": "code",
   "execution_count": 6,
   "id": "0dc6fcff-f8b2-44cb-8919-fda9b23c0b49",
   "metadata": {},
   "outputs": [
    {
     "data": {
      "text/plain": [
       "(True, ['cast 65530u16 into r0 as u8;'])"
      ]
     },
     "execution_count": 6,
     "metadata": {},
     "output_type": "execute_result"
    }
   ],
   "source": [
    "fid = \"ex1\"\n",
    "# detector_divz(env, main.id, fid, readable=True)\n",
    "# detector_infoleak(env, main.id, fid, readable=True)\n",
    "# detector_emptyf(env, main.id, fid, readable=True)\n",
    "# detector_magicv(env, main.id, fid, readable=True)\n",
    "# detector_susinst(env, main.id, fid, readable=True)\n",
    "# detector_divrd(env, main.id, fid, readable=True)\n",
    "detector_downcast(env, main.id, fid, readable=True)"
   ]
  },
  {
   "cell_type": "code",
   "execution_count": 6,
   "id": "e895857f-8473-4e0e-a561-3553469ceceb",
   "metadata": {},
   "outputs": [
    {
     "ename": "ValueError",
     "evalue": "4 is not in list",
     "output_type": "error",
     "traceback": [
      "\u001b[0;31m---------------------------------------------------------------------------\u001b[0m",
      "\u001b[0;31mValueError\u001b[0m                                Traceback (most recent call last)",
      "Cell \u001b[0;32mIn[6], line 1\u001b[0m\n\u001b[0;32m----> 1\u001b[0m \u001b[43m[\u001b[49m\u001b[38;5;241;43m1\u001b[39;49m\u001b[43m,\u001b[49m\u001b[38;5;241;43m2\u001b[39;49m\u001b[43m,\u001b[49m\u001b[38;5;241;43m3\u001b[39;49m\u001b[43m]\u001b[49m\u001b[38;5;241;43m.\u001b[39;49m\u001b[43mindex\u001b[49m\u001b[43m(\u001b[49m\u001b[38;5;241;43m4\u001b[39;49m\u001b[43m)\u001b[49m\n",
      "\u001b[0;31mValueError\u001b[0m: 4 is not in list"
     ]
    }
   ],
   "source": [
    "[1,2,3].index(4)"
   ]
  },
  {
   "cell_type": "code",
   "execution_count": 12,
   "id": "a983f9b5-286c-4748-b2c7-b450ff0d7948",
   "metadata": {},
   "outputs": [
    {
     "name": "stdout",
     "output_type": "stream",
     "text": [
      "# [debug] deploy: main.aleo\n",
      "# [✓][test] pid: unused0.aleo, fid: ex0, expected: False, actual: False\n",
      "# [✓][test] pid: unused0.aleo, fid: ex1, expected: True, actual: True\n",
      "# [✓][test] pid: unused0.aleo, fid: ex2, expected: True, actual: True\n",
      "# [✗][test] pid: unused0.aleo, fid: ex3, expected: False, actual: True\n",
      "# [✓][test] pid: unused0.aleo, fid: ex4, expected: True, actual: True\n",
      "# [✗][test] pid: unused0.aleo, fid: ex5, expected: False, actual: True\n",
      "# [✓][test] pid: unused0.aleo, fid: ex6, expected: True, actual: True\n",
      "# [test] accuracy: 5/7 (0.7143)\n",
      "# [test] confusion matrix:\n",
      "  actual    False  True \n",
      "expected              \n",
      "False         1      2\n",
      "True          0      4\n",
      "# [test] normalized confusion matrix:\n",
      "  actual       False     True \n",
      "expected                    \n",
      "False     0.333333  0.666667\n",
      "True      0.000000  1.000000\n"
     ]
    }
   ],
   "source": [
    "# r = run_test_suite(\"./tests/public/divz0/build/\", detector_divz, verbose=True)\n",
    "# r = run_test_suite(\"./tests/public/infoleak0/build/\", detector_infoleak, verbose=True)\n",
    "# r = run_test_suite(\"./tests/public/rtcnst0/build/\", detector_rtcnst, verbose=True)\n",
    "r = run_test_suite(\"./tests/public/unused0/build/\", detector_unused, verbose=True)"
   ]
  },
  {
   "cell_type": "code",
   "execution_count": null,
   "id": "82d7efec-e329-4e1d-ab12-eb0890c072d3",
   "metadata": {},
   "outputs": [],
   "source": []
  }
 ],
 "metadata": {
  "kernelspec": {
   "display_name": "Python 3 (ipykernel)",
   "language": "python",
   "name": "python3"
  },
  "language_info": {
   "codemirror_mode": {
    "name": "ipython",
    "version": 3
   },
   "file_extension": ".py",
   "mimetype": "text/x-python",
   "name": "python",
   "nbconvert_exporter": "python",
   "pygments_lexer": "ipython3",
   "version": "3.12.0"
  }
 },
 "nbformat": 4,
 "nbformat_minor": 5
}
