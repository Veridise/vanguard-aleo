{
 "cells": [
  {
   "cell_type": "code",
   "execution_count": 1,
   "id": "8c6764a1-8835-4b6f-8ff2-32700801ffb9",
   "metadata": {},
   "outputs": [],
   "source": [
    "# only run once every time kernel restarts\n",
    "import json\n",
    "import os\n",
    "from lark import Lark\n",
    "os.chdir(\"..\")"
   ]
  },
  {
   "cell_type": "code",
   "execution_count": 2,
   "id": "b34815c6-9610-4ef1-a7d2-4ee62cd30ae7",
   "metadata": {},
   "outputs": [],
   "source": [
    "from vanguard.aleo.common import aleo2json, simplify_json\n",
    "from vanguard.aleo.grammar import AleoProgram, AleoEnvironment\n",
    "# from vanguard.aleo.detectors.infoleak import detector_infoleak\n",
    "from vanguard.aleo.detectors.rtcnst import detector_rtcnst\n",
    "# from vanguard.aleo.detectors.unused import detector_unused\n",
    "from vanguard.aleo.detectors.divz import detector_divz\n",
    "from vanguard.aleo.detectors.divrd import detector_divrd\n",
    "# from vanguard.aleo.testing import run_test_suite"
   ]
  },
  {
   "cell_type": "code",
   "execution_count": 3,
   "id": "b4849e3a-50d8-4fd4-83e5-5fa5b16ae96e",
   "metadata": {},
   "outputs": [
    {
     "name": "stdout",
     "output_type": "stream",
     "text": [
      "# [debug] deploy: main.aleo\n",
      "# [debug] deploy: helpers.aleo\n"
     ]
    }
   ],
   "source": [
    "project_name = \"divz0\"\n",
    "build_path = f\"./tests/public/{project_name}/build/\"\n",
    "env = AleoEnvironment(build_path)\n",
    "main_id = env.main_id"
   ]
  },
  {
   "cell_type": "code",
   "execution_count": 9,
   "id": "0dc6fcff-f8b2-44cb-8919-fda9b23c0b49",
   "metadata": {},
   "outputs": [
    {
     "name": "stdout",
     "output_type": "stream",
     "text": [
      "# [debug] inst: ['call', ['locator', ['program_id', ['program_name', 'helpers'], ['program_domain', 'aleo']], 'division'], ['unsigned_literal', 224, ['unsigned_type', 'u8']], ['unsigned_literal', 0, ['unsigned_type', 'u8']], 'into', ['register_access', 'r0']]\n",
      "# [debug] inst: ['div', ['register_access', 'r0'], ['register_access', 'r1'], ['register_access', 'r2']]\n"
     ]
    },
    {
     "data": {
      "text/plain": [
       "(True,\n",
       " [['div',\n",
       "   ['register_access', 'r0'],\n",
       "   ['register_access', 'r1'],\n",
       "   ['register_access', 'r2']]])"
      ]
     },
     "execution_count": 9,
     "metadata": {},
     "output_type": "execute_result"
    }
   ],
   "source": [
    "fid = \"ex25\"\n",
    "detector_divz(env, main_id, fid)"
   ]
  },
  {
   "cell_type": "code",
   "execution_count": 12,
   "id": "2f672f73-2b39-4889-bf87-fbf646487e47",
   "metadata": {},
   "outputs": [
    {
     "data": {
      "text/plain": [
       "dict_keys(['a', 'b'])"
      ]
     },
     "execution_count": 12,
     "metadata": {},
     "output_type": "execute_result"
    }
   ],
   "source": [
    "env.programs[main_id].structs[\"struct_ex16\"]"
   ]
  },
  {
   "cell_type": "code",
   "execution_count": null,
   "id": "c76ce9b9-7725-4b54-ab9b-9bda3060ea35",
   "metadata": {},
   "outputs": [],
   "source": []
  },
  {
   "cell_type": "code",
   "execution_count": null,
   "id": "b7584813-9f19-4b80-8869-a68a6a293dab",
   "metadata": {},
   "outputs": [],
   "source": []
  },
  {
   "cell_type": "code",
   "execution_count": 3,
   "id": "5645605b-7ba2-462c-a263-e78342045dc0",
   "metadata": {},
   "outputs": [
    {
     "name": "stdout",
     "output_type": "stream",
     "text": [
      "# [debug] deploy: main.aleo\n"
     ]
    }
   ],
   "source": [
    "project_name = \"rtcnst0\"\n",
    "build_path = f\"./tests/public/{project_name}/build/\"\n",
    "env = AleoEnvironment(build_path)\n",
    "main_id = env.main_id"
   ]
  },
  {
   "cell_type": "code",
   "execution_count": 5,
   "id": "3c44bffb-6667-494c-ae7a-afd8c0f548f5",
   "metadata": {},
   "outputs": [
    {
     "data": {
      "text/plain": [
       "(False, [])"
      ]
     },
     "execution_count": 5,
     "metadata": {},
     "output_type": "execute_result"
    }
   ],
   "source": [
    "fid = \"ex1\"\n",
    "detector_rtcnst(env, main_id, fid)"
   ]
  },
  {
   "cell_type": "code",
   "execution_count": 6,
   "id": "4540b0ba-c3c3-4fd0-97ae-733801807665",
   "metadata": {},
   "outputs": [
    {
     "data": {
      "text/plain": [
       "[(['unsigned_literal', 0, ['unsigned_type', 'u8']],\n",
       "  ['value_type', ['unsigned_type', 'u8'], '.private'])]"
      ]
     },
     "execution_count": 6,
     "metadata": {},
     "output_type": "execute_result"
    }
   ],
   "source": [
    "env.programs[main_id].functions[\"ex0\"][\"outputs\"]"
   ]
  },
  {
   "cell_type": "code",
   "execution_count": null,
   "id": "b24a0c19-176f-49e6-955a-0304b6c94379",
   "metadata": {},
   "outputs": [],
   "source": []
  }
 ],
 "metadata": {
  "kernelspec": {
   "display_name": "Python 3 (ipykernel)",
   "language": "python",
   "name": "python3"
  },
  "language_info": {
   "codemirror_mode": {
    "name": "ipython",
    "version": 3
   },
   "file_extension": ".py",
   "mimetype": "text/x-python",
   "name": "python",
   "nbconvert_exporter": "python",
   "pygments_lexer": "ipython3",
   "version": "3.12.0"
  }
 },
 "nbformat": 4,
 "nbformat_minor": 5
}
