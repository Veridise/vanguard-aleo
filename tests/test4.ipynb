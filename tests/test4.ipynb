{
 "cells": [
  {
   "cell_type": "code",
   "execution_count": 1,
   "id": "8c6764a1-8835-4b6f-8ff2-32700801ffb9",
   "metadata": {},
   "outputs": [],
   "source": [
    "# only run once every time kernel restarts\n",
    "import json\n",
    "import os\n",
    "os.chdir(\"..\")"
   ]
  },
  {
   "cell_type": "code",
   "execution_count": 2,
   "id": "b34815c6-9610-4ef1-a7d2-4ee62cd30ae7",
   "metadata": {},
   "outputs": [],
   "source": [
    "from vanguard.aleo.grammar import AleoProgram, AleoEnvironment\n",
    "\n",
    "from vanguard.aleo.detectors import detector_infoleak\n",
    "from vanguard.aleo.detectors import detector_rtcnst\n",
    "from vanguard.aleo.detectors import detector_unused\n",
    "from vanguard.aleo.detectors import detector_divz\n",
    "\n",
    "from vanguard.aleo.testing import run_test_suite"
   ]
  },
  {
   "cell_type": "code",
   "execution_count": 3,
   "id": "b4849e3a-50d8-4fd4-83e5-5fa5b16ae96e",
   "metadata": {},
   "outputs": [
    {
     "name": "stdout",
     "output_type": "stream",
     "text": [
      "# [debug] deploy: main.aleo\n",
      "# [debug] deploy: helpers.aleo\n"
     ]
    }
   ],
   "source": [
    "project_name = \"divz0\"\n",
    "# project_name = \"infoleak0\"\n",
    "# project_name = \"unused0\"\n",
    "# project_name = \"rtcnst0\"\n",
    "build_path = f\"./tests/public/{project_name}/build/\"\n",
    "env = AleoEnvironment(build_path)\n",
    "main = env.main"
   ]
  },
  {
   "cell_type": "code",
   "execution_count": null,
   "id": "d4d3f42f-b9be-4cf1-bcdd-19a93576df0f",
   "metadata": {},
   "outputs": [],
   "source": []
  },
  {
   "cell_type": "code",
   "execution_count": 4,
   "id": "0dc6fcff-f8b2-44cb-8919-fda9b23c0b49",
   "metadata": {},
   "outputs": [
    {
     "data": {
      "text/plain": [
       "(False, [])"
      ]
     },
     "execution_count": 4,
     "metadata": {},
     "output_type": "execute_result"
    }
   ],
   "source": [
    "fid = \"ex1\"\n",
    "detector_infoleak(env, main.id, fid, readable=True)"
   ]
  },
  {
   "cell_type": "code",
   "execution_count": null,
   "id": "e895857f-8473-4e0e-a561-3553469ceceb",
   "metadata": {},
   "outputs": [],
   "source": []
  },
  {
   "cell_type": "code",
   "execution_count": 6,
   "id": "a983f9b5-286c-4748-b2c7-b450ff0d7948",
   "metadata": {},
   "outputs": [
    {
     "name": "stdout",
     "output_type": "stream",
     "text": [
      "# [debug] deploy: main.aleo\n",
      "# [debug] deploy: helpers.aleo\n",
      "# [✓][test] pid: divz0.aleo, fid: ex0, expected: True, actual: True\n",
      "# [✓][test] pid: divz0.aleo, fid: ex1, expected: True, actual: True\n",
      "# [✓][test] pid: divz0.aleo, fid: ex2, expected: True, actual: True\n",
      "# [✓][test] pid: divz0.aleo, fid: ex3, expected: True, actual: True\n",
      "# [✗][test] pid: divz0.aleo, fid: ex4, expected: False, actual: True\n",
      "# [✓][test] pid: divz0.aleo, fid: ex5, expected: True, actual: True\n",
      "# [✓][test] pid: divz0.aleo, fid: ex6, expected: True, actual: True\n",
      "# [✗][test] pid: divz0.aleo, fid: ex7, expected: False, actual: True\n",
      "# [✓][test] pid: divz0.aleo, fid: ex8, expected: True, actual: True\n",
      "# [✓][test] pid: divz0.aleo, fid: ex9, expected: False, actual: False\n",
      "# [✓][test] pid: divz0.aleo, fid: ex10, expected: False, actual: False\n",
      "# [✓][test] pid: divz0.aleo, fid: ex11, expected: True, actual: True\n",
      "# [✓][test] pid: divz0.aleo, fid: ex12, expected: True, actual: True\n",
      "# [✓][test] pid: divz0.aleo, fid: ex13, expected: True, actual: True\n",
      "# [✓][test] pid: divz0.aleo, fid: ex14, expected: True, actual: True\n",
      "# [✓][test] pid: divz0.aleo, fid: ex15, expected: True, actual: True\n",
      "# [✓][test] pid: divz0.aleo, fid: ex16, expected: True, actual: True\n",
      "# [✓][test] pid: divz0.aleo, fid: ex17, expected: True, actual: True\n",
      "# [✓][test] pid: divz0.aleo, fid: ex18, expected: True, actual: True\n",
      "# [✓][test] pid: divz0.aleo, fid: ex19, expected: True, actual: True\n",
      "# [✗][test] pid: divz0.aleo, fid: ex20, expected: True, actual: False\n",
      "# [✓][test] pid: divz0.aleo, fid: ex21, expected: True, actual: True\n",
      "# [✓][test] pid: divz0.aleo, fid: ex22, expected: True, actual: True\n",
      "# [✓][test] pid: divz0.aleo, fid: ex23, expected: True, actual: True\n",
      "# [✓][test] pid: divz0.aleo, fid: ex24, expected: True, actual: True\n",
      "# [✓][test] pid: divz0.aleo, fid: ex25, expected: True, actual: True\n",
      "# [test] accuracy: 23/26 (0.8846)\n",
      "# [test] confusion matrix:\n",
      "  actual    False  True \n",
      "expected              \n",
      "False         2      2\n",
      "True          1     21\n",
      "# [test] normalized confusion matrix:\n",
      "  actual       False     True \n",
      "expected                    \n",
      "False     0.500000  0.500000\n",
      "True      0.045455  0.954545\n"
     ]
    }
   ],
   "source": [
    "r = run_test_suite(\"./tests/public/divz0/build/\", detector_divz, verbose=True)\n",
    "# r = run_test_suite(\"./tests/public/infoleak0/build/\", detector_infoleak, verbose=True)\n",
    "# r = run_test_suite(\"./tests/public/rtcnst0/build/\", detector_rtcnst, verbose=True)\n",
    "# r = run_test_suite(\"./tests/public/unused0/build/\", detector_unused, verbose=True)"
   ]
  },
  {
   "cell_type": "code",
   "execution_count": null,
   "id": "82d7efec-e329-4e1d-ab12-eb0890c072d3",
   "metadata": {},
   "outputs": [],
   "source": []
  }
 ],
 "metadata": {
  "kernelspec": {
   "display_name": "Python 3 (ipykernel)",
   "language": "python",
   "name": "python3"
  },
  "language_info": {
   "codemirror_mode": {
    "name": "ipython",
    "version": 3
   },
   "file_extension": ".py",
   "mimetype": "text/x-python",
   "name": "python",
   "nbconvert_exporter": "python",
   "pygments_lexer": "ipython3",
   "version": "3.12.0"
  }
 },
 "nbformat": 4,
 "nbformat_minor": 5
}
