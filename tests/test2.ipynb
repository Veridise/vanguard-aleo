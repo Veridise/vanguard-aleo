{
 "cells": [
  {
   "cell_type": "code",
   "execution_count": 1,
   "id": "e5608577-0d21-4c83-8742-52ab389b55b7",
   "metadata": {},
   "outputs": [],
   "source": [
    "# only run once every time kernel restarts\n",
    "import os\n",
    "os.chdir(\"..\")"
   ]
  },
  {
   "cell_type": "code",
   "execution_count": 9,
   "id": "40e3922c-d800-4c6b-acda-77c8cc5a0fc2",
   "metadata": {},
   "outputs": [],
   "source": [
    "from vanguard.aleo.common import aleo2json\n",
    "from vanguard.aleo.grammar import AleoProgram\n",
    "from vanguard.aleo.detectors.infoleak import detector_infoleak\n",
    "from vanguard.aleo.detectors.rtcnst import detector_rtcnst\n",
    "from vanguard.aleo.detectors.unused import detector_unused\n",
    "from vanguard.aleo.detectors.divz import detector_divz\n",
    "from vanguard.aleo.detectors.divrd import detector_divrd"
   ]
  },
  {
   "cell_type": "code",
   "execution_count": 13,
   "id": "6392985b-7be1-403e-8f75-ef10de6dda0e",
   "metadata": {},
   "outputs": [],
   "source": [
    "obj = aleo2json(\"./tests/unused0/build/main.aleo\")\n",
    "ap = AleoProgram(json=obj)"
   ]
  },
  {
   "cell_type": "code",
   "execution_count": 19,
   "id": "194a1768-84a5-4c18-a96d-836cd8a00152",
   "metadata": {},
   "outputs": [
    {
     "data": {
      "text/plain": [
       "(True, ['r1'])"
      ]
     },
     "execution_count": 19,
     "metadata": {},
     "output_type": "execute_result"
    }
   ],
   "source": [
    "detector_unused(ap, \"ex4\")"
   ]
  },
  {
   "cell_type": "code",
   "execution_count": null,
   "id": "884d3f2c-4600-44f5-a0cb-c4f3d4d8c771",
   "metadata": {},
   "outputs": [],
   "source": []
  },
  {
   "cell_type": "code",
   "execution_count": null,
   "id": "a70a148e-c86f-4184-ad3f-9ba6288e6263",
   "metadata": {},
   "outputs": [],
   "source": []
  }
 ],
 "metadata": {
  "kernelspec": {
   "display_name": "Python 3 (ipykernel)",
   "language": "python",
   "name": "python3"
  },
  "language_info": {
   "codemirror_mode": {
    "name": "ipython",
    "version": 3
   },
   "file_extension": ".py",
   "mimetype": "text/x-python",
   "name": "python",
   "nbconvert_exporter": "python",
   "pygments_lexer": "ipython3",
   "version": "3.12.0"
  }
 },
 "nbformat": 4,
 "nbformat_minor": 5
}
